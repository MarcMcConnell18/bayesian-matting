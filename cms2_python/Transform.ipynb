{
 "cells": [
  {
   "cell_type": "code",
   "execution_count": 3,
   "id": "25486293",
   "metadata": {},
   "outputs": [],
   "source": [
    "import numpy as np"
   ]
  },
  {
   "cell_type": "code",
   "execution_count": 4,
   "id": "2f40f9fc",
   "metadata": {},
   "outputs": [],
   "source": [
    "def transform_matrix(f_b_mat, image_mask):\n",
    "    \"\"\"\n",
    "    Reshapes the f_b_mat [m, n, 3] into a vector [1, N] using image_mask.\n",
    "    \"\"\"\n",
    "    \n",
    "    f_b_mat = np.delete(f_b_mat, np.where(np.isnan(image_mask)))\n",
    "    f_b_mat = f_b_mat[:len(f_b_mat) // 3]\n",
    "    result_vector = f_b_mat.flatten()\n",
    "    return result_vector\n",
    "\n"
   ]
  },
  {
   "cell_type": "code",
   "execution_count": 2,
   "id": "7e357c81",
   "metadata": {},
   "outputs": [],
   "source": [
    "def transform_pixels(input_mat, image_mask):\n",
    "    \"\"\"\n",
    "    The ambiguous dimension of input matrix will be converted to [3, position\n",
    "    that is required to be overseen]\n",
    "    \"\"\"\n",
    "    input_mat = np.delete(input_mat, np.where(np.isnan(image_mask)))\n",
    "    new_mat = np.reshape(input_mat, (len(input_mat) // 3, 3))\n",
    "    return new_mat"
   ]
  },
  {
   "cell_type": "code",
   "execution_count": null,
   "id": "85aac810",
   "metadata": {},
   "outputs": [],
   "source": []
  }
 ],
 "metadata": {
  "kernelspec": {
   "display_name": "Python 3 (ipykernel)",
   "language": "python",
   "name": "python3"
  },
  "language_info": {
   "codemirror_mode": {
    "name": "ipython",
    "version": 3
   },
   "file_extension": ".py",
   "mimetype": "text/x-python",
   "name": "python",
   "nbconvert_exporter": "python",
   "pygments_lexer": "ipython3",
   "version": "3.10.13"
  }
 },
 "nbformat": 4,
 "nbformat_minor": 5
}
