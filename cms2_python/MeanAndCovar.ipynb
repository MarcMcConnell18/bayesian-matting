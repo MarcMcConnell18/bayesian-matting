{
 "cells": [
  {
   "cell_type": "code",
   "execution_count": 3,
   "id": "3a645c8b",
   "metadata": {},
   "outputs": [],
   "source": [
    "import numpy as np"
   ]
  },
  {
   "cell_type": "code",
   "execution_count": 8,
   "id": "1d5f1bb8",
   "metadata": {},
   "outputs": [],
   "source": [
    "def meanv(certain_ground, weight):\n",
    "    whole_weight = sum(weight)\n",
    "    color_channel = [1, 2, 3]\n",
    "    mean_value = np.zeros(3)\n",
    "    for channel in color_channel:\n",
    "        mean_value[channel - 1] = np.sum(certain_ground[channel, :] * weight) / whole_weight\n",
    "    print(channel)\n",
    "    return mean_value \n"
   ]
  },
  {
   "cell_type": "code",
   "execution_count": 7,
   "id": "b4e31d78",
   "metadata": {},
   "outputs": [],
   "source": [
    "def covariance(mean_value, certain_ground, weight):\n",
    "    whole_weight = sum(weight)\n",
    "    shift = [certain_ground[1, :] - mean_value(1), certain_ground[2, :] - mean_value(2), certain_ground[3, :] - mean_value(3)]\n",
    "    covar = np.dot(np.dot(weight * shift, shift.T), 1 / whole_weight)\n",
    "    return covar    "
   ]
  },
  {
   "cell_type": "code",
   "execution_count": null,
   "id": "bc39f173",
   "metadata": {},
   "outputs": [],
   "source": []
  }
 ],
 "metadata": {
  "kernelspec": {
   "display_name": "Python 3 (ipykernel)",
   "language": "python",
   "name": "python3"
  },
  "language_info": {
   "codemirror_mode": {
    "name": "ipython",
    "version": 3
   },
   "file_extension": ".py",
   "mimetype": "text/x-python",
   "name": "python",
   "nbconvert_exporter": "python",
   "pygments_lexer": "ipython3",
   "version": "3.10.13"
  }
 },
 "nbformat": 4,
 "nbformat_minor": 5
}
