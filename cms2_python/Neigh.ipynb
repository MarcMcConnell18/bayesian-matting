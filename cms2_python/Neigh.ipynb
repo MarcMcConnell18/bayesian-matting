{
 "cells": [
  {
   "cell_type": "code",
   "execution_count": 2,
   "id": "f2e56aa9",
   "metadata": {},
   "outputs": [],
   "source": [
    "import numpy as np"
   ]
  },
  {
   "cell_type": "code",
   "execution_count": 3,
   "id": "d6945e7b",
   "metadata": {},
   "outputs": [],
   "source": [
    "def likelihood_estimation(obs_color, init_alpha, fg_mu, bg_mu, fg_covariance, bg_covariance,\n",
    "                          sigma_camera, max_iter, likelihood_min):\n",
    "    fg_cov_inv = np.linalg.pinv(fg_covariance)\n",
    "    bg_cov_inv = np.linalg.pinv(bg_covariance)\n",
    "    iteration_count = 0\n",
    "    I = np.eye(3)\n",
    "    \n",
    "    sigma_c_sq = sigma_camera ** 2\n",
    "    alpha = init_alpha\n",
    "    alpha_sq = alpha ** 2\n",
    "    likelihood_diff = 1\n",
    "    prev_likelihood = 0\n",
    "    \n",
    "    while (iteration_count <= max_iter) and (likelihood_diff > likelihood_min):\n",
    "        FM_LU = fg_cov_inv + (I * (alpha_sq / sigma_c_sq))\n",
    "        FM_RU = (I * alpha * (1 - alpha)) / sigma_c_sq\n",
    "        FM_LD = (I * alpha * (1 - alpha)) / sigma_c_sq\n",
    "        FM_RD = bg_cov_inv + ((I * ((1 - alpha) ** 2)) / sigma_c_sq) \n",
    "                   \n",
    "        FM = np.block([[FM_LU, FM_RU], [FM_LD, FM_RD]])\n",
    "        FM_inv = np.linalg.pinv(FM)\n",
    "\n",
    "        SMU = (fg_cov_inv @ fg_mu) + ((obs_color * alpha) / sigma_c_sq)\n",
    "        SMD = (bg_cov_inv @ bg_mu) + ((obs_color * (1 - alpha)) / sigma_c_sq)\n",
    "        SM = np.vstack([SMU, SMD])\n",
    "        \n",
    "        FB_matrix = FM_inv @ SM\n",
    "\n",
    "        FB_matrix[FB_matrix > 1] = 1\n",
    "        FB_matrix[FB_matrix < 0] = 0\n",
    "\n",
    "        Foreground_update = FB_matrix[:3]\n",
    "        Background_update = FB_matrix[3:]\n",
    "\n",
    "        alpha_numerator = np.dot((obs_color - Background_update), (Foreground_update - Background_update))\n",
    "        alpha_denominator = np.linalg.norm(Foreground_update - Background_update) ** 2\n",
    "        alpha = alpha_numerator / alpha_denominator\n",
    "        alpha = max(0, min(1, alpha))\n",
    "\n",
    "        fg_difference = Foreground_update - fg_mu\n",
    "        bg_difference = Background_update - bg_mu\n",
    "        \n",
    "        fg_likelihood = - np.dot(np.dot(fg_difference.T, fg_cov_inv), fg_difference) / 2\n",
    "        bg_likelihood = - np.dot(np.dot(bg_difference.T, bg_cov_inv), bg_difference) / 2\n",
    "\n",
    "        composite_likelihood = obs_color - (alpha * Foreground_update) - ((1 - alpha) * Background_update)\n",
    "        composite_likelihood = - np.linalg.norm(composite_likelihood, ord=2) ** 2 / sigma_c_sq\n",
    "\n",
    "        total_likelihood = composite_likelihood + fg_likelihood + bg_likelihood\n",
    "\n",
    "        iteration_count += 1\n",
    "        \n",
    "        if iteration_count == 1:\n",
    "            likelihood_diff = abs(total_likelihood)\n",
    "        else:\n",
    "            likelihood_diff = abs(total_likelihood - prev_likelihood)\n",
    "        prev_likelihood = total_likelihood\n",
    "\n",
    "        alpha_sq = alpha ** 2\n",
    "    \n",
    "    F_final = Foreground_update\n",
    "    B_final = Background_update\n",
    "    return F_final, B_final, alpha"
   ]
  }
 ],
 "metadata": {
  "kernelspec": {
   "display_name": "Python 3 (ipykernel)",
   "language": "python",
   "name": "python3"
  },
  "language_info": {
   "codemirror_mode": {
    "name": "ipython",
    "version": 3
   },
   "file_extension": ".py",
   "mimetype": "text/x-python",
   "name": "python",
   "nbconvert_exporter": "python",
   "pygments_lexer": "ipython3",
   "version": "3.10.13"
  }
 },
 "nbformat": 4,
 "nbformat_minor": 5
}
