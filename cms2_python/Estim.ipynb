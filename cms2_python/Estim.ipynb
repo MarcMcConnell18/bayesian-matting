{
 "cells": [
  {
   "cell_type": "code",
   "execution_count": 2,
   "id": "9e2f863d",
   "metadata": {},
   "outputs": [],
   "source": [
    "import numpy as np\n",
    "from scipy.ndimage import gaussian_filter"
   ]
  },
  {
   "cell_type": "code",
   "execution_count": 3,
   "id": "11bb327b",
   "metadata": {},
   "outputs": [],
   "source": [
    "def extract_neighborhood_info(foreground_image, background_image, alpha_for_pixels, x, y, start_dim, sigma_gaussian):\n",
    "    \"\"\"\n",
    "    Retrieves foreground and background neighborhood pixels and weights, along with initial alpha,\n",
    "    for a given pixel in the unknown area.\n",
    "    \"\"\"\n",
    "    # Image dimensions\n",
    "    rows, cols, _ = foreground_image.shape\n",
    "    \n",
    "    # Half window size\n",
    "    half_start_dim = (start_dim - 1) // 2\n",
    "    \n",
    "    # Index of four vertices of the square neighborhood\n",
    "    min_x = max(0, x - half_start_dim)\n",
    "    max_x = min(rows, x + half_start_dim + 1)\n",
    "    min_y = max(0, y - half_start_dim)\n",
    "    max_y = min(cols, y + half_start_dim + 1)\n",
    "    \n",
    "    # Extract alpha, foreground_image, background_image, neighborhood\n",
    "    fg_neigh = foreground_image[min_x:max_x, min_y:max_y, :]\n",
    "    bg_neigh = background_image[min_x:max_x, min_y:max_y, :]\n",
    "    alpha_neigh = alpha_for_pixels[min_x:max_x, min_y:max_y, :]\n",
    "    \n",
    "    # Gaussian distribution area\n",
    "    init_gaussian = gaussian_filter(np.ones((start_dim, start_dim)), sigma=sigma_gaussian)\n",
    "    rel_gaussian = init_gaussian[(x - min_x):(x - min_x + start_dim), (y - min_y):(y - min_y + start_dim)]\n",
    "    rel_gaussian = np.stack([rel_gaussian] * 3, axis=-1)\n",
    "    \n",
    "    # Foreground weight = (alpha^2) * gaussian_fall_off\n",
    "    fg_w = alpha_neigh ** 2 * rel_gaussian\n",
    "    \n",
    "    # Background weight = ((1 - alpha)^2) * gaussian_fall_off\n",
    "    bg_w = (1 - alpha_neigh) ** 2 * rel_gaussian\n",
    "    \n",
    "    # Calculate the mean of all the alpha values in the neighborhood as the initial alpha\n",
    "    init_alpha = np.nanmean(alpha_neigh)\n",
    "    \n",
    "    # Assign initial alpha as 0 if it's NaN\n",
    "    if np.isnan(init_alpha):\n",
    "        init_alpha = 0\n",
    "    \n",
    "    return fg_neigh, bg_neigh, fg_w, bg_w, init_alpha"
   ]
  }
 ],
 "metadata": {
  "kernelspec": {
   "display_name": "Python 3 (ipykernel)",
   "language": "python",
   "name": "python3"
  },
  "language_info": {
   "codemirror_mode": {
    "name": "ipython",
    "version": 3
   },
   "file_extension": ".py",
   "mimetype": "text/x-python",
   "name": "python",
   "nbconvert_exporter": "python",
   "pygments_lexer": "ipython3",
   "version": "3.10.13"
  }
 },
 "nbformat": 4,
 "nbformat_minor": 5
}
